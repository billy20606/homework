{
 "cells": [
  {
   "cell_type": "code",
   "execution_count": 1,
   "id": "b77247cf",
   "metadata": {},
   "outputs": [],
   "source": [
    "import numpy as np\n",
    "from PIL import ImageGrab\n",
    "import cv2\n",
    "import time\n",
    "import win32gui, win32ui, win32con, win32api"
   ]
  },
  {
   "cell_type": "code",
   "execution_count": 2,
   "id": "83812230",
   "metadata": {},
   "outputs": [],
   "source": [
    "def grab_screen(region=None):\n",
    "    hwin = win32gui.GetDesktopWindow()\n",
    "    if region:\n",
    "            left,top,x2,y2 = region\n",
    "            width = x2 - left + 1\n",
    "            height = y2 - top + 1\n",
    "    else:\n",
    "        width = win32api.GetSystemMetrics(win32con.SM_CXVIRTUALSCREEN)\n",
    "        height = win32api.GetSystemMetrics(win32con.SM_CYVIRTUALSCREEN)\n",
    "        left = win32api.GetSystemMetrics(win32con.SM_XVIRTUALSCREEN)\n",
    "        top = win32api.GetSystemMetrics(win32con.SM_YVIRTUALSCREEN)\n",
    "    hwindc = win32gui.GetWindowDC(hwin)\n",
    "    srcdc = win32ui.CreateDCFromHandle(hwindc)\n",
    "    memdc = srcdc.CreateCompatibleDC()\n",
    "    bmp = win32ui.CreateBitmap()\n",
    "    bmp.CreateCompatibleBitmap(srcdc, width, height)\n",
    "    memdc.SelectObject(bmp)\n",
    "    memdc.BitBlt((0, 0), (width, height), srcdc, (left, top), win32con.SRCCOPY)\n",
    "    signedIntsArray = bmp.GetBitmapBits(True)\n",
    "    img = np.fromstring(signedIntsArray, dtype='uint8')\n",
    "    img.shape = (height,width,4)\n",
    "    srcdc.DeleteDC()\n",
    "    memdc.DeleteDC()\n",
    "    win32gui.ReleaseDC(hwin, hwindc)\n",
    "    win32gui.DeleteObject(bmp.GetHandle())\n",
    "    return cv2.cvtColor(img, cv2.COLOR_BGRA2RGB)"
   ]
  },
  {
   "cell_type": "code",
   "execution_count": 3,
   "id": "7e8c0ac1",
   "metadata": {},
   "outputs": [],
   "source": [
    "def main():\n",
    "    last_time = time.time()\n",
    "    while True:\n",
    "        # 1920 windowed mode\n",
    "        screen = grab_screen(region=(0,40,1920,1120))\n",
    "        img = cv2.resize(screen,None,fx=0.4,fy=0.3)\n",
    "        height,width,channels = img.shape\n",
    "        #detecting objects\n",
    "        blob = cv2.dnn.blobFromImage(img,0.00392,(416,416),(0,0,0),True,crop=False)\n",
    "        net.setInput(blob)\n",
    "        outs = net.forward(outputlayers)\n",
    "        #Showing info on screen/ get confidence score of algorithm in detecting an object in blob\n",
    "        class_ids=[]\n",
    "        confidences=[]\n",
    "        boxes=[]\n",
    "        for out in outs:\n",
    "            for detection in out:\n",
    "                scores = detection[5:]\n",
    "                class_id = np.argmax(scores)\n",
    "                confidence = scores[class_id]\n",
    "                if confidence > 0.5:\n",
    "                    #onject detected\n",
    "                    center_x= int(detection[0]*width)\n",
    "                    center_y= int(detection[1]*height)\n",
    "                    w = int(detection[2]*width)\n",
    "                    h = int(detection[3]*height)\n",
    "                    #rectangle co-ordinaters\n",
    "                    x=int(center_x - w/2)\n",
    "                    y=int(center_y - h/2)\n",
    "                    boxes.append([x,y,w,h]) #put all rectangle areas\n",
    "                    confidences.append(float(confidence)) #how confidence was that object detected and show that percentage\n",
    "                    class_ids.append(class_id) #name of the object tha was detected\n",
    "        indexes = cv2.dnn.NMSBoxes(boxes,confidences,0.4,0.6)\n",
    "        font = cv2.FONT_HERSHEY_PLAIN\n",
    "        for i in range(len(boxes)):\n",
    "            if i in indexes:\n",
    "                x,y,w,h = boxes[i]\n",
    "                label = str(classes[class_ids[i]])\n",
    "                color = colors[i]\n",
    "                cv2.rectangle(img,(x,y),(x+w,y+h),color,2)\n",
    "                cv2.putText(img,label,(x,y+30),font,1,(255,255,255),2)\n",
    "        #print('Frame took {} seconds'.format(time.time()-last_time))\n",
    "        last_time = time.time()\n",
    "        cv2.imshow('window', img)\n",
    "        if cv2.waitKey(25) & 0xFF == ord('q'):\n",
    "            cv2.destroyAllWindows()\n",
    "            break"
   ]
  },
  {
   "cell_type": "code",
   "execution_count": 4,
   "id": "e840733d",
   "metadata": {},
   "outputs": [],
   "source": [
    "net = cv2.dnn.readNetFromDarknet('yolov3.cfg', 'yolov3.weights')\n",
    "classes = []\n",
    "with open(\"coco.names\",\"r\") as f:\n",
    "    classes = [line.strip() for line in f.readlines()]\n",
    "    \n",
    "layer_names = net.getLayerNames()\n",
    "outputlayers = [layer_names[i[0] - 1] for i in net.getUnconnectedOutLayers()]\n",
    "colors= np.random.uniform(0,255,size=(len(classes),3))"
   ]
  },
  {
   "cell_type": "code",
   "execution_count": 5,
   "id": "dbe853f9",
   "metadata": {
    "scrolled": false
   },
   "outputs": [
    {
     "name": "stderr",
     "output_type": "stream",
     "text": [
      "C:\\Users\\betty\\anaconda3\\envs\\detector\\lib\\site-packages\\ipykernel_launcher.py:20: DeprecationWarning: The binary mode of fromstring is deprecated, as it behaves surprisingly on unicode inputs. Use frombuffer instead\n"
     ]
    },
    {
     "ename": "KeyboardInterrupt",
     "evalue": "",
     "output_type": "error",
     "traceback": [
      "\u001b[1;31m---------------------------------------------------------------------------\u001b[0m",
      "\u001b[1;31mKeyboardInterrupt\u001b[0m                         Traceback (most recent call last)",
      "\u001b[1;32m~\\AppData\\Local\\Temp\\ipykernel_14424\\451043146.py\u001b[0m in \u001b[0;36m<module>\u001b[1;34m\u001b[0m\n\u001b[1;32m----> 1\u001b[1;33m \u001b[0mmain\u001b[0m\u001b[1;33m(\u001b[0m\u001b[1;33m)\u001b[0m\u001b[1;33m\u001b[0m\u001b[1;33m\u001b[0m\u001b[0m\n\u001b[0m",
      "\u001b[1;32m~\\AppData\\Local\\Temp\\ipykernel_14424\\610035271.py\u001b[0m in \u001b[0;36mmain\u001b[1;34m()\u001b[0m\n\u001b[0;32m      9\u001b[0m         \u001b[0mblob\u001b[0m \u001b[1;33m=\u001b[0m \u001b[0mcv2\u001b[0m\u001b[1;33m.\u001b[0m\u001b[0mdnn\u001b[0m\u001b[1;33m.\u001b[0m\u001b[0mblobFromImage\u001b[0m\u001b[1;33m(\u001b[0m\u001b[0mimg\u001b[0m\u001b[1;33m,\u001b[0m\u001b[1;36m0.00392\u001b[0m\u001b[1;33m,\u001b[0m\u001b[1;33m(\u001b[0m\u001b[1;36m416\u001b[0m\u001b[1;33m,\u001b[0m\u001b[1;36m416\u001b[0m\u001b[1;33m)\u001b[0m\u001b[1;33m,\u001b[0m\u001b[1;33m(\u001b[0m\u001b[1;36m0\u001b[0m\u001b[1;33m,\u001b[0m\u001b[1;36m0\u001b[0m\u001b[1;33m,\u001b[0m\u001b[1;36m0\u001b[0m\u001b[1;33m)\u001b[0m\u001b[1;33m,\u001b[0m\u001b[1;32mTrue\u001b[0m\u001b[1;33m,\u001b[0m\u001b[0mcrop\u001b[0m\u001b[1;33m=\u001b[0m\u001b[1;32mFalse\u001b[0m\u001b[1;33m)\u001b[0m\u001b[1;33m\u001b[0m\u001b[1;33m\u001b[0m\u001b[0m\n\u001b[0;32m     10\u001b[0m         \u001b[0mnet\u001b[0m\u001b[1;33m.\u001b[0m\u001b[0msetInput\u001b[0m\u001b[1;33m(\u001b[0m\u001b[0mblob\u001b[0m\u001b[1;33m)\u001b[0m\u001b[1;33m\u001b[0m\u001b[1;33m\u001b[0m\u001b[0m\n\u001b[1;32m---> 11\u001b[1;33m         \u001b[0mouts\u001b[0m \u001b[1;33m=\u001b[0m \u001b[0mnet\u001b[0m\u001b[1;33m.\u001b[0m\u001b[0mforward\u001b[0m\u001b[1;33m(\u001b[0m\u001b[0moutputlayers\u001b[0m\u001b[1;33m)\u001b[0m\u001b[1;33m\u001b[0m\u001b[1;33m\u001b[0m\u001b[0m\n\u001b[0m\u001b[0;32m     12\u001b[0m         \u001b[1;31m#Showing info on screen/ get confidence score of algorithm in detecting an object in blob\u001b[0m\u001b[1;33m\u001b[0m\u001b[1;33m\u001b[0m\u001b[1;33m\u001b[0m\u001b[0m\n\u001b[0;32m     13\u001b[0m         \u001b[0mclass_ids\u001b[0m\u001b[1;33m=\u001b[0m\u001b[1;33m[\u001b[0m\u001b[1;33m]\u001b[0m\u001b[1;33m\u001b[0m\u001b[1;33m\u001b[0m\u001b[0m\n",
      "\u001b[1;31mKeyboardInterrupt\u001b[0m: "
     ]
    }
   ],
   "source": [
    "main()"
   ]
  },
  {
   "cell_type": "code",
   "execution_count": null,
   "id": "c7435ff6",
   "metadata": {},
   "outputs": [],
   "source": []
  }
 ],
 "metadata": {
  "kernelspec": {
   "display_name": "Python (Object Detector)",
   "language": "python",
   "name": "detector"
  },
  "language_info": {
   "codemirror_mode": {
    "name": "ipython",
    "version": 3
   },
   "file_extension": ".py",
   "mimetype": "text/x-python",
   "name": "python",
   "nbconvert_exporter": "python",
   "pygments_lexer": "ipython3",
   "version": "3.7.10"
  }
 },
 "nbformat": 4,
 "nbformat_minor": 5
}
